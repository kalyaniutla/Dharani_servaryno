{
 "cells": [
  {
   "cell_type": "code",
   "execution_count": null,
   "id": "6fa6cb9a",
   "metadata": {},
   "outputs": [],
   "source": [
    "import requests\n",
    "from bs4 import BeautifulSoup\n",
    "\n",
    "def get_survey_numbers(district, mandal, village):\n",
    "    url = \"https://dharani.telangana.gov.in/knowLandStatus\"\n",
    "\n",
    "\n",
    "    code = {\n",
    "        'districtCode': district,\n",
    "        'mandalCode': mandal,\n",
    "        'villageCode': village\n",
    "    }\n",
    "\n",
    "    response = requests.post(url, data=code)\n",
    "    print(response)\n",
    "   \n",
    "    soup = BeautifulSoup(response.content, 'html.parser')\n",
    "\n",
    "    print(soup)\n",
    "    survey_numbers = []\n",
    "    for option in soup.find_all('option'):\n",
    "        survey_number = option.get('value')\n",
    "        if survey_number:\n",
    "            survey_numbers.append(survey_number)\n",
    "\n",
    "    return survey_numbers\n",
    "\n",
    "# Enter district, mandal, and village codes\n",
    "district = input(\"Enter district code: \")\n",
    "mandal = input(\"Enter mandal code: \")\n",
    "village = input(\"Enter village code: \")\n",
    "\n",
    "survey_numbers = get_survey_numbers(district, mandal, village)\n",
    "print(\"Survey Numbers:\")\n",
    "for survey_number in survey_numbers:\n",
    "    print(survey_number)\n"
   ]
  }
 ],
 "metadata": {
  "kernelspec": {
   "display_name": "Python 3 (ipykernel)",
   "language": "python",
   "name": "python3"
  },
  "language_info": {
   "codemirror_mode": {
    "name": "ipython",
    "version": 3
   },
   "file_extension": ".py",
   "mimetype": "text/x-python",
   "name": "python",
   "nbconvert_exporter": "python",
   "pygments_lexer": "ipython3",
   "version": "3.9.13"
  }
 },
 "nbformat": 4,
 "nbformat_minor": 5
}
